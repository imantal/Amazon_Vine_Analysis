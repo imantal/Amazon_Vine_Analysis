{
 "cells": [
  {
   "cell_type": "code",
   "execution_count": 4,
   "id": "383a5905",
   "metadata": {},
   "outputs": [
    {
     "name": "stderr",
     "output_type": "stream",
     "text": [
      "C:\\Users\\italebinejad\\Anaconda3\\envs\\PythonData\\lib\\site-packages\\IPython\\core\\interactiveshell.py:3444: DtypeWarning: Columns (3) have mixed types.Specify dtype option on import or set low_memory=False.\n",
      "  exec(code_obj, self.user_global_ns, self.user_ns)\n"
     ]
    },
    {
     "data": {
      "text/html": [
       "<div>\n",
       "<style scoped>\n",
       "    .dataframe tbody tr th:only-of-type {\n",
       "        vertical-align: middle;\n",
       "    }\n",
       "\n",
       "    .dataframe tbody tr th {\n",
       "        vertical-align: top;\n",
       "    }\n",
       "\n",
       "    .dataframe thead th {\n",
       "        text-align: right;\n",
       "    }\n",
       "</style>\n",
       "<table border=\"1\" class=\"dataframe\">\n",
       "  <thead>\n",
       "    <tr style=\"text-align: right;\">\n",
       "      <th></th>\n",
       "      <th>review_id</th>\n",
       "      <th>helpful_votes</th>\n",
       "      <th>vine</th>\n",
       "      <th>star_rating</th>\n",
       "      <th>total_votes</th>\n",
       "      <th>verified_purchase</th>\n",
       "    </tr>\n",
       "  </thead>\n",
       "  <tbody>\n",
       "    <tr>\n",
       "      <th>0</th>\n",
       "      <td>R3W4P9UBGNGH1U</td>\n",
       "      <td>1.0</td>\n",
       "      <td>N</td>\n",
       "      <td>2</td>\n",
       "      <td>3.0</td>\n",
       "      <td>Y</td>\n",
       "    </tr>\n",
       "    <tr>\n",
       "      <th>1</th>\n",
       "      <td>R15V54KBMTQWAY</td>\n",
       "      <td>0.0</td>\n",
       "      <td>N</td>\n",
       "      <td>4</td>\n",
       "      <td>0.0</td>\n",
       "      <td>N</td>\n",
       "    </tr>\n",
       "    <tr>\n",
       "      <th>2</th>\n",
       "      <td>RY8I449HNXSVF</td>\n",
       "      <td>0.0</td>\n",
       "      <td>N</td>\n",
       "      <td>5</td>\n",
       "      <td>0.0</td>\n",
       "      <td>Y</td>\n",
       "    </tr>\n",
       "    <tr>\n",
       "      <th>3</th>\n",
       "      <td>R18TLJYCKJFLSR</td>\n",
       "      <td>0.0</td>\n",
       "      <td>N</td>\n",
       "      <td>5</td>\n",
       "      <td>0.0</td>\n",
       "      <td>Y</td>\n",
       "    </tr>\n",
       "    <tr>\n",
       "      <th>4</th>\n",
       "      <td>R1NK26SWS53B8Q</td>\n",
       "      <td>0.0</td>\n",
       "      <td>N</td>\n",
       "      <td>5</td>\n",
       "      <td>0.0</td>\n",
       "      <td>Y</td>\n",
       "    </tr>\n",
       "  </tbody>\n",
       "</table>\n",
       "</div>"
      ],
      "text/plain": [
       "        review_id  helpful_votes vine star_rating  total_votes  \\\n",
       "0  R3W4P9UBGNGH1U            1.0    N           2          3.0   \n",
       "1  R15V54KBMTQWAY            0.0    N           4          0.0   \n",
       "2   RY8I449HNXSVF            0.0    N           5          0.0   \n",
       "3  R18TLJYCKJFLSR            0.0    N           5          0.0   \n",
       "4  R1NK26SWS53B8Q            0.0    N           5          0.0   \n",
       "\n",
       "  verified_purchase  \n",
       "0                 Y  \n",
       "1                 N  \n",
       "2                 Y  \n",
       "3                 Y  \n",
       "4                 Y  "
      ]
     },
     "execution_count": 4,
     "metadata": {},
     "output_type": "execute_result"
    }
   ],
   "source": [
    "# import the CSV table exported from postgres\n",
    "\n",
    "import pandas as pd\n",
    "vine = pd.read_csv('vine_table.csv')\n",
    "vine.head()"
   ]
  },
  {
   "cell_type": "code",
   "execution_count": 5,
   "id": "d8441bdd",
   "metadata": {},
   "outputs": [
    {
     "data": {
      "text/plain": [
       "9002021"
      ]
     },
     "execution_count": 5,
     "metadata": {},
     "output_type": "execute_result"
    }
   ],
   "source": [
    "len(vine)"
   ]
  },
  {
   "cell_type": "code",
   "execution_count": 6,
   "id": "047bfe99",
   "metadata": {},
   "outputs": [
    {
     "data": {
      "text/plain": [
       "72587"
      ]
     },
     "execution_count": 6,
     "metadata": {},
     "output_type": "execute_result"
    }
   ],
   "source": [
    "# filter data for total votes >20\n",
    "vine_votes_df=vine[vine[\"total_votes\"]>=20]\n",
    "len(vine_votes_df)"
   ]
  },
  {
   "cell_type": "code",
   "execution_count": 7,
   "id": "7ed30bca",
   "metadata": {},
   "outputs": [
    {
     "data": {
      "text/plain": [
       "review_id             object\n",
       "helpful_votes        float64\n",
       "vine                  object\n",
       "star_rating           object\n",
       "total_votes          float64\n",
       "verified_purchase     object\n",
       "dtype: object"
      ]
     },
     "execution_count": 7,
     "metadata": {},
     "output_type": "execute_result"
    }
   ],
   "source": [
    "vine_votes_df.dtypes"
   ]
  },
  {
   "cell_type": "code",
   "execution_count": 8,
   "id": "c2419f36",
   "metadata": {},
   "outputs": [
    {
     "name": "stderr",
     "output_type": "stream",
     "text": [
      "C:\\Users\\italebinejad\\Anaconda3\\envs\\PythonData\\lib\\site-packages\\ipykernel_launcher.py:1: SettingWithCopyWarning: \n",
      "A value is trying to be set on a copy of a slice from a DataFrame.\n",
      "Try using .loc[row_indexer,col_indexer] = value instead\n",
      "\n",
      "See the caveats in the documentation: https://pandas.pydata.org/pandas-docs/stable/user_guide/indexing.html#returning-a-view-versus-a-copy\n",
      "  \"\"\"Entry point for launching an IPython kernel.\n"
     ]
    }
   ],
   "source": [
    "vine_votes_df['star_rating'] = pd.to_numeric(vine_votes_df['star_rating'])"
   ]
  },
  {
   "cell_type": "code",
   "execution_count": 9,
   "id": "c6613760",
   "metadata": {},
   "outputs": [
    {
     "data": {
      "text/plain": [
       "review_id             object\n",
       "helpful_votes        float64\n",
       "vine                  object\n",
       "star_rating          float64\n",
       "total_votes          float64\n",
       "verified_purchase     object\n",
       "dtype: object"
      ]
     },
     "execution_count": 9,
     "metadata": {},
     "output_type": "execute_result"
    }
   ],
   "source": [
    "vine_votes_df.dtypes"
   ]
  },
  {
   "cell_type": "code",
   "execution_count": 10,
   "id": "409363e0",
   "metadata": {},
   "outputs": [
    {
     "name": "stderr",
     "output_type": "stream",
     "text": [
      "C:\\Users\\italebinejad\\Anaconda3\\envs\\PythonData\\lib\\site-packages\\ipykernel_launcher.py:2: SettingWithCopyWarning: \n",
      "A value is trying to be set on a copy of a slice from a DataFrame.\n",
      "Try using .loc[row_indexer,col_indexer] = value instead\n",
      "\n",
      "See the caveats in the documentation: https://pandas.pydata.org/pandas-docs/stable/user_guide/indexing.html#returning-a-view-versus-a-copy\n",
      "  \n"
     ]
    }
   ],
   "source": [
    "# add a column for helpfull votes ratio\n",
    "vine_votes_df[\"helpfull_votes_ratio\"]=vine_votes_df[\"helpful_votes\"]/vine_votes_df[\"total_votes\"]"
   ]
  },
  {
   "cell_type": "code",
   "execution_count": 11,
   "id": "2030ab18",
   "metadata": {},
   "outputs": [
    {
     "data": {
      "text/html": [
       "<div>\n",
       "<style scoped>\n",
       "    .dataframe tbody tr th:only-of-type {\n",
       "        vertical-align: middle;\n",
       "    }\n",
       "\n",
       "    .dataframe tbody tr th {\n",
       "        vertical-align: top;\n",
       "    }\n",
       "\n",
       "    .dataframe thead th {\n",
       "        text-align: right;\n",
       "    }\n",
       "</style>\n",
       "<table border=\"1\" class=\"dataframe\">\n",
       "  <thead>\n",
       "    <tr style=\"text-align: right;\">\n",
       "      <th></th>\n",
       "      <th>review_id</th>\n",
       "      <th>helpful_votes</th>\n",
       "      <th>vine</th>\n",
       "      <th>star_rating</th>\n",
       "      <th>total_votes</th>\n",
       "      <th>verified_purchase</th>\n",
       "      <th>helpfull_votes_ratio</th>\n",
       "    </tr>\n",
       "  </thead>\n",
       "  <tbody>\n",
       "    <tr>\n",
       "      <th>116</th>\n",
       "      <td>R2WOW0TURNXB26</td>\n",
       "      <td>54.0</td>\n",
       "      <td>N</td>\n",
       "      <td>3.0</td>\n",
       "      <td>59.0</td>\n",
       "      <td>Y</td>\n",
       "      <td>0.915254</td>\n",
       "    </tr>\n",
       "    <tr>\n",
       "      <th>197</th>\n",
       "      <td>R13VL62Y2HBQ0B</td>\n",
       "      <td>15.0</td>\n",
       "      <td>N</td>\n",
       "      <td>5.0</td>\n",
       "      <td>21.0</td>\n",
       "      <td>Y</td>\n",
       "      <td>0.714286</td>\n",
       "    </tr>\n",
       "    <tr>\n",
       "      <th>307</th>\n",
       "      <td>R22G55KAPZKJQV</td>\n",
       "      <td>20.0</td>\n",
       "      <td>N</td>\n",
       "      <td>4.0</td>\n",
       "      <td>21.0</td>\n",
       "      <td>Y</td>\n",
       "      <td>0.952381</td>\n",
       "    </tr>\n",
       "    <tr>\n",
       "      <th>1012</th>\n",
       "      <td>R1610PGTJS7G3N</td>\n",
       "      <td>28.0</td>\n",
       "      <td>N</td>\n",
       "      <td>2.0</td>\n",
       "      <td>44.0</td>\n",
       "      <td>Y</td>\n",
       "      <td>0.636364</td>\n",
       "    </tr>\n",
       "    <tr>\n",
       "      <th>2265</th>\n",
       "      <td>RLQL04BL0QXOJ</td>\n",
       "      <td>45.0</td>\n",
       "      <td>N</td>\n",
       "      <td>4.0</td>\n",
       "      <td>47.0</td>\n",
       "      <td>Y</td>\n",
       "      <td>0.957447</td>\n",
       "    </tr>\n",
       "  </tbody>\n",
       "</table>\n",
       "</div>"
      ],
      "text/plain": [
       "           review_id  helpful_votes vine  star_rating  total_votes  \\\n",
       "116   R2WOW0TURNXB26           54.0    N          3.0         59.0   \n",
       "197   R13VL62Y2HBQ0B           15.0    N          5.0         21.0   \n",
       "307   R22G55KAPZKJQV           20.0    N          4.0         21.0   \n",
       "1012  R1610PGTJS7G3N           28.0    N          2.0         44.0   \n",
       "2265   RLQL04BL0QXOJ           45.0    N          4.0         47.0   \n",
       "\n",
       "     verified_purchase  helpfull_votes_ratio  \n",
       "116                  Y              0.915254  \n",
       "197                  Y              0.714286  \n",
       "307                  Y              0.952381  \n",
       "1012                 Y              0.636364  \n",
       "2265                 Y              0.957447  "
      ]
     },
     "execution_count": 11,
     "metadata": {},
     "output_type": "execute_result"
    }
   ],
   "source": [
    "vine_votes_df.head()"
   ]
  },
  {
   "cell_type": "code",
   "execution_count": 12,
   "id": "58493914",
   "metadata": {},
   "outputs": [],
   "source": [
    "# filter df for helpfull votes >= 50%\n",
    "\n",
    "vine_helpfull_df=vine_votes_df[vine_votes_df[\"helpfull_votes_ratio\"]>=0.5]"
   ]
  },
  {
   "cell_type": "code",
   "execution_count": 13,
   "id": "e8c370c9",
   "metadata": {},
   "outputs": [
    {
     "data": {
      "text/html": [
       "<div>\n",
       "<style scoped>\n",
       "    .dataframe tbody tr th:only-of-type {\n",
       "        vertical-align: middle;\n",
       "    }\n",
       "\n",
       "    .dataframe tbody tr th {\n",
       "        vertical-align: top;\n",
       "    }\n",
       "\n",
       "    .dataframe thead th {\n",
       "        text-align: right;\n",
       "    }\n",
       "</style>\n",
       "<table border=\"1\" class=\"dataframe\">\n",
       "  <thead>\n",
       "    <tr style=\"text-align: right;\">\n",
       "      <th></th>\n",
       "      <th>review_id</th>\n",
       "      <th>helpful_votes</th>\n",
       "      <th>vine</th>\n",
       "      <th>star_rating</th>\n",
       "      <th>total_votes</th>\n",
       "      <th>verified_purchase</th>\n",
       "      <th>helpfull_votes_ratio</th>\n",
       "    </tr>\n",
       "  </thead>\n",
       "  <tbody>\n",
       "    <tr>\n",
       "      <th>116</th>\n",
       "      <td>R2WOW0TURNXB26</td>\n",
       "      <td>54.0</td>\n",
       "      <td>N</td>\n",
       "      <td>3.0</td>\n",
       "      <td>59.0</td>\n",
       "      <td>Y</td>\n",
       "      <td>0.915254</td>\n",
       "    </tr>\n",
       "    <tr>\n",
       "      <th>197</th>\n",
       "      <td>R13VL62Y2HBQ0B</td>\n",
       "      <td>15.0</td>\n",
       "      <td>N</td>\n",
       "      <td>5.0</td>\n",
       "      <td>21.0</td>\n",
       "      <td>Y</td>\n",
       "      <td>0.714286</td>\n",
       "    </tr>\n",
       "    <tr>\n",
       "      <th>307</th>\n",
       "      <td>R22G55KAPZKJQV</td>\n",
       "      <td>20.0</td>\n",
       "      <td>N</td>\n",
       "      <td>4.0</td>\n",
       "      <td>21.0</td>\n",
       "      <td>Y</td>\n",
       "      <td>0.952381</td>\n",
       "    </tr>\n",
       "    <tr>\n",
       "      <th>1012</th>\n",
       "      <td>R1610PGTJS7G3N</td>\n",
       "      <td>28.0</td>\n",
       "      <td>N</td>\n",
       "      <td>2.0</td>\n",
       "      <td>44.0</td>\n",
       "      <td>Y</td>\n",
       "      <td>0.636364</td>\n",
       "    </tr>\n",
       "    <tr>\n",
       "      <th>2265</th>\n",
       "      <td>RLQL04BL0QXOJ</td>\n",
       "      <td>45.0</td>\n",
       "      <td>N</td>\n",
       "      <td>4.0</td>\n",
       "      <td>47.0</td>\n",
       "      <td>Y</td>\n",
       "      <td>0.957447</td>\n",
       "    </tr>\n",
       "  </tbody>\n",
       "</table>\n",
       "</div>"
      ],
      "text/plain": [
       "           review_id  helpful_votes vine  star_rating  total_votes  \\\n",
       "116   R2WOW0TURNXB26           54.0    N          3.0         59.0   \n",
       "197   R13VL62Y2HBQ0B           15.0    N          5.0         21.0   \n",
       "307   R22G55KAPZKJQV           20.0    N          4.0         21.0   \n",
       "1012  R1610PGTJS7G3N           28.0    N          2.0         44.0   \n",
       "2265   RLQL04BL0QXOJ           45.0    N          4.0         47.0   \n",
       "\n",
       "     verified_purchase  helpfull_votes_ratio  \n",
       "116                  Y              0.915254  \n",
       "197                  Y              0.714286  \n",
       "307                  Y              0.952381  \n",
       "1012                 Y              0.636364  \n",
       "2265                 Y              0.957447  "
      ]
     },
     "execution_count": 13,
     "metadata": {},
     "output_type": "execute_result"
    }
   ],
   "source": [
    "vine_helpfull_df.head()"
   ]
  },
  {
   "cell_type": "code",
   "execution_count": 14,
   "id": "d992abdf",
   "metadata": {},
   "outputs": [
    {
     "data": {
      "text/plain": [
       "65581"
      ]
     },
     "execution_count": 14,
     "metadata": {},
     "output_type": "execute_result"
    }
   ],
   "source": [
    "len(vine_helpfull_df)"
   ]
  },
  {
   "cell_type": "code",
   "execution_count": 15,
   "id": "c8a3cc71",
   "metadata": {},
   "outputs": [],
   "source": [
    "# filter df for the reviews written as part of the Vine program (paid)\n",
    "\n",
    "vine_vin_Y_df=vine_helpfull_df[vine_helpfull_df[\"vine\"]==\"Y\"]"
   ]
  },
  {
   "cell_type": "code",
   "execution_count": 16,
   "id": "84ddff05",
   "metadata": {},
   "outputs": [
    {
     "data": {
      "text/html": [
       "<div>\n",
       "<style scoped>\n",
       "    .dataframe tbody tr th:only-of-type {\n",
       "        vertical-align: middle;\n",
       "    }\n",
       "\n",
       "    .dataframe tbody tr th {\n",
       "        vertical-align: top;\n",
       "    }\n",
       "\n",
       "    .dataframe thead th {\n",
       "        text-align: right;\n",
       "    }\n",
       "</style>\n",
       "<table border=\"1\" class=\"dataframe\">\n",
       "  <thead>\n",
       "    <tr style=\"text-align: right;\">\n",
       "      <th></th>\n",
       "      <th>review_id</th>\n",
       "      <th>helpful_votes</th>\n",
       "      <th>vine</th>\n",
       "      <th>star_rating</th>\n",
       "      <th>total_votes</th>\n",
       "      <th>verified_purchase</th>\n",
       "      <th>helpfull_votes_ratio</th>\n",
       "    </tr>\n",
       "  </thead>\n",
       "  <tbody>\n",
       "    <tr>\n",
       "      <th>7585</th>\n",
       "      <td>R1MAOLI5FJHAFM</td>\n",
       "      <td>249.0</td>\n",
       "      <td>Y</td>\n",
       "      <td>4.0</td>\n",
       "      <td>261.0</td>\n",
       "      <td>N</td>\n",
       "      <td>0.954023</td>\n",
       "    </tr>\n",
       "    <tr>\n",
       "      <th>13291</th>\n",
       "      <td>R9PYAUDIBJVEC</td>\n",
       "      <td>12.0</td>\n",
       "      <td>Y</td>\n",
       "      <td>4.0</td>\n",
       "      <td>22.0</td>\n",
       "      <td>N</td>\n",
       "      <td>0.545455</td>\n",
       "    </tr>\n",
       "    <tr>\n",
       "      <th>23444</th>\n",
       "      <td>R6V9SHMMG5M8F</td>\n",
       "      <td>101.0</td>\n",
       "      <td>Y</td>\n",
       "      <td>5.0</td>\n",
       "      <td>110.0</td>\n",
       "      <td>N</td>\n",
       "      <td>0.918182</td>\n",
       "    </tr>\n",
       "    <tr>\n",
       "      <th>38024</th>\n",
       "      <td>R37PVLT6ELL5J4</td>\n",
       "      <td>181.0</td>\n",
       "      <td>Y</td>\n",
       "      <td>4.0</td>\n",
       "      <td>209.0</td>\n",
       "      <td>N</td>\n",
       "      <td>0.866029</td>\n",
       "    </tr>\n",
       "    <tr>\n",
       "      <th>88492</th>\n",
       "      <td>R2FSFGWZF24V9</td>\n",
       "      <td>50.0</td>\n",
       "      <td>Y</td>\n",
       "      <td>4.0</td>\n",
       "      <td>51.0</td>\n",
       "      <td>N</td>\n",
       "      <td>0.980392</td>\n",
       "    </tr>\n",
       "  </tbody>\n",
       "</table>\n",
       "</div>"
      ],
      "text/plain": [
       "            review_id  helpful_votes vine  star_rating  total_votes  \\\n",
       "7585   R1MAOLI5FJHAFM          249.0    Y          4.0        261.0   \n",
       "13291   R9PYAUDIBJVEC           12.0    Y          4.0         22.0   \n",
       "23444   R6V9SHMMG5M8F          101.0    Y          5.0        110.0   \n",
       "38024  R37PVLT6ELL5J4          181.0    Y          4.0        209.0   \n",
       "88492   R2FSFGWZF24V9           50.0    Y          4.0         51.0   \n",
       "\n",
       "      verified_purchase  helpfull_votes_ratio  \n",
       "7585                  N              0.954023  \n",
       "13291                 N              0.545455  \n",
       "23444                 N              0.918182  \n",
       "38024                 N              0.866029  \n",
       "88492                 N              0.980392  "
      ]
     },
     "execution_count": 16,
     "metadata": {},
     "output_type": "execute_result"
    }
   ],
   "source": [
    "vine_vin_Y_df.head()"
   ]
  },
  {
   "cell_type": "code",
   "execution_count": 17,
   "id": "3a66724d",
   "metadata": {},
   "outputs": [
    {
     "data": {
      "text/plain": [
       "613"
      ]
     },
     "execution_count": 17,
     "metadata": {},
     "output_type": "execute_result"
    }
   ],
   "source": [
    "len(vine_vin_Y_df)"
   ]
  },
  {
   "cell_type": "code",
   "execution_count": 18,
   "id": "f740abb8",
   "metadata": {},
   "outputs": [],
   "source": [
    "# filter df for the reviews not written as part of the Vine program (unpaid)\n",
    "\n",
    "vine_vin_N_df=vine_helpfull_df[vine_helpfull_df[\"vine\"]==\"N\"]"
   ]
  },
  {
   "cell_type": "code",
   "execution_count": 19,
   "id": "306c06f3",
   "metadata": {},
   "outputs": [
    {
     "data": {
      "text/html": [
       "<div>\n",
       "<style scoped>\n",
       "    .dataframe tbody tr th:only-of-type {\n",
       "        vertical-align: middle;\n",
       "    }\n",
       "\n",
       "    .dataframe tbody tr th {\n",
       "        vertical-align: top;\n",
       "    }\n",
       "\n",
       "    .dataframe thead th {\n",
       "        text-align: right;\n",
       "    }\n",
       "</style>\n",
       "<table border=\"1\" class=\"dataframe\">\n",
       "  <thead>\n",
       "    <tr style=\"text-align: right;\">\n",
       "      <th></th>\n",
       "      <th>review_id</th>\n",
       "      <th>helpful_votes</th>\n",
       "      <th>vine</th>\n",
       "      <th>star_rating</th>\n",
       "      <th>total_votes</th>\n",
       "      <th>verified_purchase</th>\n",
       "      <th>helpfull_votes_ratio</th>\n",
       "    </tr>\n",
       "  </thead>\n",
       "  <tbody>\n",
       "    <tr>\n",
       "      <th>116</th>\n",
       "      <td>R2WOW0TURNXB26</td>\n",
       "      <td>54.0</td>\n",
       "      <td>N</td>\n",
       "      <td>3.0</td>\n",
       "      <td>59.0</td>\n",
       "      <td>Y</td>\n",
       "      <td>0.915254</td>\n",
       "    </tr>\n",
       "    <tr>\n",
       "      <th>197</th>\n",
       "      <td>R13VL62Y2HBQ0B</td>\n",
       "      <td>15.0</td>\n",
       "      <td>N</td>\n",
       "      <td>5.0</td>\n",
       "      <td>21.0</td>\n",
       "      <td>Y</td>\n",
       "      <td>0.714286</td>\n",
       "    </tr>\n",
       "    <tr>\n",
       "      <th>307</th>\n",
       "      <td>R22G55KAPZKJQV</td>\n",
       "      <td>20.0</td>\n",
       "      <td>N</td>\n",
       "      <td>4.0</td>\n",
       "      <td>21.0</td>\n",
       "      <td>Y</td>\n",
       "      <td>0.952381</td>\n",
       "    </tr>\n",
       "    <tr>\n",
       "      <th>1012</th>\n",
       "      <td>R1610PGTJS7G3N</td>\n",
       "      <td>28.0</td>\n",
       "      <td>N</td>\n",
       "      <td>2.0</td>\n",
       "      <td>44.0</td>\n",
       "      <td>Y</td>\n",
       "      <td>0.636364</td>\n",
       "    </tr>\n",
       "    <tr>\n",
       "      <th>2265</th>\n",
       "      <td>RLQL04BL0QXOJ</td>\n",
       "      <td>45.0</td>\n",
       "      <td>N</td>\n",
       "      <td>4.0</td>\n",
       "      <td>47.0</td>\n",
       "      <td>Y</td>\n",
       "      <td>0.957447</td>\n",
       "    </tr>\n",
       "  </tbody>\n",
       "</table>\n",
       "</div>"
      ],
      "text/plain": [
       "           review_id  helpful_votes vine  star_rating  total_votes  \\\n",
       "116   R2WOW0TURNXB26           54.0    N          3.0         59.0   \n",
       "197   R13VL62Y2HBQ0B           15.0    N          5.0         21.0   \n",
       "307   R22G55KAPZKJQV           20.0    N          4.0         21.0   \n",
       "1012  R1610PGTJS7G3N           28.0    N          2.0         44.0   \n",
       "2265   RLQL04BL0QXOJ           45.0    N          4.0         47.0   \n",
       "\n",
       "     verified_purchase  helpfull_votes_ratio  \n",
       "116                  Y              0.915254  \n",
       "197                  Y              0.714286  \n",
       "307                  Y              0.952381  \n",
       "1012                 Y              0.636364  \n",
       "2265                 Y              0.957447  "
      ]
     },
     "execution_count": 19,
     "metadata": {},
     "output_type": "execute_result"
    }
   ],
   "source": [
    "vine_vin_N_df.head()"
   ]
  },
  {
   "cell_type": "code",
   "execution_count": 20,
   "id": "4ce45675",
   "metadata": {},
   "outputs": [
    {
     "data": {
      "text/plain": [
       "64968"
      ]
     },
     "execution_count": 20,
     "metadata": {},
     "output_type": "execute_result"
    }
   ],
   "source": [
    "len(vine_vin_N_df)"
   ]
  },
  {
   "cell_type": "code",
   "execution_count": 21,
   "id": "0b381eea",
   "metadata": {},
   "outputs": [
    {
     "data": {
      "text/plain": [
       "222"
      ]
     },
     "execution_count": 21,
     "metadata": {},
     "output_type": "execute_result"
    }
   ],
   "source": [
    "# total helpfull votes for vin =Y and star rating = 5  \n",
    "total_5_reviews_Y=vine_vin_Y_df[vine_vin_Y_df[\"star_rating\"]==5]\n",
    "total_5_reviews_Y_n=len(total_5_reviews_Y.index)\n",
    "total_5_reviews_Y_n"
   ]
  },
  {
   "cell_type": "code",
   "execution_count": 22,
   "id": "887b8ab5",
   "metadata": {},
   "outputs": [
    {
     "data": {
      "text/plain": [
       "30543"
      ]
     },
     "execution_count": 22,
     "metadata": {},
     "output_type": "execute_result"
    }
   ],
   "source": [
    "# total helpfull votes for vin =N and star rating = 5  \n",
    "total_5_reviews_N=vine_vin_N_df[vine_vin_N_df[\"star_rating\"]==5]\n",
    "total_5_reviews_N_n=len(total_5_reviews_N.index)\n",
    "total_5_reviews_N_n"
   ]
  },
  {
   "cell_type": "code",
   "execution_count": 23,
   "id": "2d91d04f",
   "metadata": {},
   "outputs": [
    {
     "name": "stdout",
     "output_type": "stream",
     "text": [
      "36.22%\n"
     ]
    }
   ],
   "source": [
    "# percentage of paid votes with star rating = 5 \n",
    "total_5_reviews_Y_per=total_5_reviews_Y_n/len(vine_vin_Y_df)\n",
    "print(\"{:.2%}\".format(total_5_reviews_Y_per))"
   ]
  },
  {
   "cell_type": "code",
   "execution_count": 24,
   "id": "8a7ad188",
   "metadata": {},
   "outputs": [
    {
     "name": "stdout",
     "output_type": "stream",
     "text": [
      "47.01%\n"
     ]
    }
   ],
   "source": [
    "# percentage of unpaid votes with star rating = 5 \n",
    "total_5_reviews_N_per=total_5_reviews_N_n/len(vine_vin_N_df)\n",
    "print(\"{:.2%}\".format(total_5_reviews_N_per))"
   ]
  }
 ],
 "metadata": {
  "kernelspec": {
   "display_name": "pythondata",
   "language": "python",
   "name": "pythondata"
  },
  "language_info": {
   "codemirror_mode": {
    "name": "ipython",
    "version": 3
   },
   "file_extension": ".py",
   "mimetype": "text/x-python",
   "name": "python",
   "nbconvert_exporter": "python",
   "pygments_lexer": "ipython3",
   "version": "3.7.11"
  }
 },
 "nbformat": 4,
 "nbformat_minor": 5
}
