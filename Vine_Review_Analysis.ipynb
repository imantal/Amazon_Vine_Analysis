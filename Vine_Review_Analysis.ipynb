{
 "cells": [
  {
   "cell_type": "code",
   "execution_count": 1,
   "id": "383a5905",
   "metadata": {},
   "outputs": [
    {
     "name": "stderr",
     "output_type": "stream",
     "text": [
      "C:\\Users\\italebinejad\\Anaconda3\\envs\\PythonData\\lib\\site-packages\\IPython\\core\\interactiveshell.py:3444: DtypeWarning: Columns (1) have mixed types.Specify dtype option on import or set low_memory=False.\n",
      "  exec(code_obj, self.user_global_ns, self.user_ns)\n"
     ]
    },
    {
     "data": {
      "text/html": [
       "<div>\n",
       "<style scoped>\n",
       "    .dataframe tbody tr th:only-of-type {\n",
       "        vertical-align: middle;\n",
       "    }\n",
       "\n",
       "    .dataframe tbody tr th {\n",
       "        vertical-align: top;\n",
       "    }\n",
       "\n",
       "    .dataframe thead th {\n",
       "        text-align: right;\n",
       "    }\n",
       "</style>\n",
       "<table border=\"1\" class=\"dataframe\">\n",
       "  <thead>\n",
       "    <tr style=\"text-align: right;\">\n",
       "      <th></th>\n",
       "      <th>review_id</th>\n",
       "      <th>star_rating</th>\n",
       "      <th>helpful_votes</th>\n",
       "      <th>total_votes</th>\n",
       "      <th>vine</th>\n",
       "      <th>verified_purchase</th>\n",
       "    </tr>\n",
       "  </thead>\n",
       "  <tbody>\n",
       "    <tr>\n",
       "      <th>0</th>\n",
       "      <td>R1002OCUHG9RB2</td>\n",
       "      <td>4.0</td>\n",
       "      <td>0.0</td>\n",
       "      <td>0.0</td>\n",
       "      <td>N</td>\n",
       "      <td>Y</td>\n",
       "    </tr>\n",
       "    <tr>\n",
       "      <th>1</th>\n",
       "      <td>R1009FXGIMJ5A8</td>\n",
       "      <td>1.0</td>\n",
       "      <td>0.0</td>\n",
       "      <td>2.0</td>\n",
       "      <td>N</td>\n",
       "      <td>Y</td>\n",
       "    </tr>\n",
       "    <tr>\n",
       "      <th>2</th>\n",
       "      <td>R100B5W7AF3U5Y</td>\n",
       "      <td>5.0</td>\n",
       "      <td>0.0</td>\n",
       "      <td>2.0</td>\n",
       "      <td>N</td>\n",
       "      <td>Y</td>\n",
       "    </tr>\n",
       "    <tr>\n",
       "      <th>3</th>\n",
       "      <td>R100L00EV9JBCG</td>\n",
       "      <td>5.0</td>\n",
       "      <td>0.0</td>\n",
       "      <td>0.0</td>\n",
       "      <td>N</td>\n",
       "      <td>Y</td>\n",
       "    </tr>\n",
       "    <tr>\n",
       "      <th>4</th>\n",
       "      <td>R100P3GPMNRH4B</td>\n",
       "      <td>5.0</td>\n",
       "      <td>0.0</td>\n",
       "      <td>0.0</td>\n",
       "      <td>N</td>\n",
       "      <td>Y</td>\n",
       "    </tr>\n",
       "  </tbody>\n",
       "</table>\n",
       "</div>"
      ],
      "text/plain": [
       "        review_id star_rating  helpful_votes  total_votes vine  \\\n",
       "0  R1002OCUHG9RB2         4.0            0.0          0.0    N   \n",
       "1  R1009FXGIMJ5A8         1.0            0.0          2.0    N   \n",
       "2  R100B5W7AF3U5Y         5.0            0.0          2.0    N   \n",
       "3  R100L00EV9JBCG         5.0            0.0          0.0    N   \n",
       "4  R100P3GPMNRH4B         5.0            0.0          0.0    N   \n",
       "\n",
       "  verified_purchase  \n",
       "0                 Y  \n",
       "1                 Y  \n",
       "2                 Y  \n",
       "3                 Y  \n",
       "4                 Y  "
      ]
     },
     "execution_count": 1,
     "metadata": {},
     "output_type": "execute_result"
    }
   ],
   "source": [
    "# import the CSV table exported from postgres\n",
    "\n",
    "import pandas as pd\n",
    "vine = pd.read_csv('vine_table.csv')\n",
    "vine.head()"
   ]
  },
  {
   "cell_type": "code",
   "execution_count": 8,
   "id": "047bfe99",
   "metadata": {},
   "outputs": [],
   "source": [
    "# filter data for total votes >20\n",
    "vine_votes_df=vine[vine[\"total_votes\"]>=20]"
   ]
  },
  {
   "cell_type": "code",
   "execution_count": 13,
   "id": "409363e0",
   "metadata": {},
   "outputs": [
    {
     "name": "stderr",
     "output_type": "stream",
     "text": [
      "C:\\Users\\italebinejad\\Anaconda3\\envs\\PythonData\\lib\\site-packages\\ipykernel_launcher.py:1: SettingWithCopyWarning: \n",
      "A value is trying to be set on a copy of a slice from a DataFrame.\n",
      "Try using .loc[row_indexer,col_indexer] = value instead\n",
      "\n",
      "See the caveats in the documentation: https://pandas.pydata.org/pandas-docs/stable/user_guide/indexing.html#returning-a-view-versus-a-copy\n",
      "  \"\"\"Entry point for launching an IPython kernel.\n"
     ]
    }
   ],
   "source": [
    "# add a column for helpfull votes ratio\n",
    "vine_votes_df[\"helpfull_votes_ratio\"]=vine_votes_df[\"helpful_votes\"]/vine_votes_df[\"total_votes\"]"
   ]
  },
  {
   "cell_type": "code",
   "execution_count": 14,
   "id": "2030ab18",
   "metadata": {},
   "outputs": [
    {
     "data": {
      "text/html": [
       "<div>\n",
       "<style scoped>\n",
       "    .dataframe tbody tr th:only-of-type {\n",
       "        vertical-align: middle;\n",
       "    }\n",
       "\n",
       "    .dataframe tbody tr th {\n",
       "        vertical-align: top;\n",
       "    }\n",
       "\n",
       "    .dataframe thead th {\n",
       "        text-align: right;\n",
       "    }\n",
       "</style>\n",
       "<table border=\"1\" class=\"dataframe\">\n",
       "  <thead>\n",
       "    <tr style=\"text-align: right;\">\n",
       "      <th></th>\n",
       "      <th>review_id</th>\n",
       "      <th>star_rating</th>\n",
       "      <th>helpful_votes</th>\n",
       "      <th>total_votes</th>\n",
       "      <th>vine</th>\n",
       "      <th>verified_purchase</th>\n",
       "      <th>helpfull_votes_ratio</th>\n",
       "    </tr>\n",
       "  </thead>\n",
       "  <tbody>\n",
       "    <tr>\n",
       "      <th>291</th>\n",
       "      <td>R10A9A8T32ALIY</td>\n",
       "      <td>5.0</td>\n",
       "      <td>32.0</td>\n",
       "      <td>33.0</td>\n",
       "      <td>N</td>\n",
       "      <td>Y</td>\n",
       "      <td>0.969697</td>\n",
       "    </tr>\n",
       "    <tr>\n",
       "      <th>330</th>\n",
       "      <td>R10F88Z49OG09R</td>\n",
       "      <td>5.0</td>\n",
       "      <td>151.0</td>\n",
       "      <td>160.0</td>\n",
       "      <td>N</td>\n",
       "      <td>N</td>\n",
       "      <td>0.943750</td>\n",
       "    </tr>\n",
       "    <tr>\n",
       "      <th>496</th>\n",
       "      <td>R10WUVF0P1MX0K</td>\n",
       "      <td>5.0</td>\n",
       "      <td>23.0</td>\n",
       "      <td>27.0</td>\n",
       "      <td>N</td>\n",
       "      <td>Y</td>\n",
       "      <td>0.851852</td>\n",
       "    </tr>\n",
       "    <tr>\n",
       "      <th>708</th>\n",
       "      <td>R110I5XKJQZZIO</td>\n",
       "      <td>1.0</td>\n",
       "      <td>1.0</td>\n",
       "      <td>30.0</td>\n",
       "      <td>N</td>\n",
       "      <td>Y</td>\n",
       "      <td>0.033333</td>\n",
       "    </tr>\n",
       "    <tr>\n",
       "      <th>738</th>\n",
       "      <td>R113RAK87V3AML</td>\n",
       "      <td>1.0</td>\n",
       "      <td>33.0</td>\n",
       "      <td>38.0</td>\n",
       "      <td>N</td>\n",
       "      <td>Y</td>\n",
       "      <td>0.868421</td>\n",
       "    </tr>\n",
       "  </tbody>\n",
       "</table>\n",
       "</div>"
      ],
      "text/plain": [
       "          review_id star_rating  helpful_votes  total_votes vine  \\\n",
       "291  R10A9A8T32ALIY         5.0           32.0         33.0    N   \n",
       "330  R10F88Z49OG09R         5.0          151.0        160.0    N   \n",
       "496  R10WUVF0P1MX0K         5.0           23.0         27.0    N   \n",
       "708  R110I5XKJQZZIO         1.0            1.0         30.0    N   \n",
       "738  R113RAK87V3AML         1.0           33.0         38.0    N   \n",
       "\n",
       "    verified_purchase  helpfull_votes_ratio  \n",
       "291                 Y              0.969697  \n",
       "330                 N              0.943750  \n",
       "496                 Y              0.851852  \n",
       "708                 Y              0.033333  \n",
       "738                 Y              0.868421  "
      ]
     },
     "execution_count": 14,
     "metadata": {},
     "output_type": "execute_result"
    }
   ],
   "source": [
    "vine_votes_df.head()"
   ]
  },
  {
   "cell_type": "code",
   "execution_count": 16,
   "id": "58493914",
   "metadata": {},
   "outputs": [],
   "source": [
    "# filter df for helpfull votes >= 50%\n",
    "\n",
    "vine_helpfull_df=vine_votes_df[vine_votes_df[\"helpfull_votes_ratio\"]>=0.5]"
   ]
  },
  {
   "cell_type": "code",
   "execution_count": 17,
   "id": "e8c370c9",
   "metadata": {},
   "outputs": [
    {
     "data": {
      "text/html": [
       "<div>\n",
       "<style scoped>\n",
       "    .dataframe tbody tr th:only-of-type {\n",
       "        vertical-align: middle;\n",
       "    }\n",
       "\n",
       "    .dataframe tbody tr th {\n",
       "        vertical-align: top;\n",
       "    }\n",
       "\n",
       "    .dataframe thead th {\n",
       "        text-align: right;\n",
       "    }\n",
       "</style>\n",
       "<table border=\"1\" class=\"dataframe\">\n",
       "  <thead>\n",
       "    <tr style=\"text-align: right;\">\n",
       "      <th></th>\n",
       "      <th>review_id</th>\n",
       "      <th>star_rating</th>\n",
       "      <th>helpful_votes</th>\n",
       "      <th>total_votes</th>\n",
       "      <th>vine</th>\n",
       "      <th>verified_purchase</th>\n",
       "      <th>helpfull_votes_ratio</th>\n",
       "    </tr>\n",
       "  </thead>\n",
       "  <tbody>\n",
       "    <tr>\n",
       "      <th>291</th>\n",
       "      <td>R10A9A8T32ALIY</td>\n",
       "      <td>5.0</td>\n",
       "      <td>32.0</td>\n",
       "      <td>33.0</td>\n",
       "      <td>N</td>\n",
       "      <td>Y</td>\n",
       "      <td>0.969697</td>\n",
       "    </tr>\n",
       "    <tr>\n",
       "      <th>330</th>\n",
       "      <td>R10F88Z49OG09R</td>\n",
       "      <td>5.0</td>\n",
       "      <td>151.0</td>\n",
       "      <td>160.0</td>\n",
       "      <td>N</td>\n",
       "      <td>N</td>\n",
       "      <td>0.943750</td>\n",
       "    </tr>\n",
       "    <tr>\n",
       "      <th>496</th>\n",
       "      <td>R10WUVF0P1MX0K</td>\n",
       "      <td>5.0</td>\n",
       "      <td>23.0</td>\n",
       "      <td>27.0</td>\n",
       "      <td>N</td>\n",
       "      <td>Y</td>\n",
       "      <td>0.851852</td>\n",
       "    </tr>\n",
       "    <tr>\n",
       "      <th>738</th>\n",
       "      <td>R113RAK87V3AML</td>\n",
       "      <td>1.0</td>\n",
       "      <td>33.0</td>\n",
       "      <td>38.0</td>\n",
       "      <td>N</td>\n",
       "      <td>Y</td>\n",
       "      <td>0.868421</td>\n",
       "    </tr>\n",
       "    <tr>\n",
       "      <th>818</th>\n",
       "      <td>R11BW6O1XCA6W5</td>\n",
       "      <td>3.0</td>\n",
       "      <td>22.0</td>\n",
       "      <td>25.0</td>\n",
       "      <td>N</td>\n",
       "      <td>Y</td>\n",
       "      <td>0.880000</td>\n",
       "    </tr>\n",
       "  </tbody>\n",
       "</table>\n",
       "</div>"
      ],
      "text/plain": [
       "          review_id star_rating  helpful_votes  total_votes vine  \\\n",
       "291  R10A9A8T32ALIY         5.0           32.0         33.0    N   \n",
       "330  R10F88Z49OG09R         5.0          151.0        160.0    N   \n",
       "496  R10WUVF0P1MX0K         5.0           23.0         27.0    N   \n",
       "738  R113RAK87V3AML         1.0           33.0         38.0    N   \n",
       "818  R11BW6O1XCA6W5         3.0           22.0         25.0    N   \n",
       "\n",
       "    verified_purchase  helpfull_votes_ratio  \n",
       "291                 Y              0.969697  \n",
       "330                 N              0.943750  \n",
       "496                 Y              0.851852  \n",
       "738                 Y              0.868421  \n",
       "818                 Y              0.880000  "
      ]
     },
     "execution_count": 17,
     "metadata": {},
     "output_type": "execute_result"
    }
   ],
   "source": [
    "vine_helpfull_df.head()"
   ]
  },
  {
   "cell_type": "code",
   "execution_count": 22,
   "id": "c8a3cc71",
   "metadata": {},
   "outputs": [],
   "source": [
    "# filter df for the reviews written as part of the Vine program (paid)\n",
    "\n",
    "vine_vin_Y_df=vine_helpfull_df[vine_helpfull_df[\"vine\"]==\"Y\"]"
   ]
  },
  {
   "cell_type": "code",
   "execution_count": 23,
   "id": "84ddff05",
   "metadata": {},
   "outputs": [
    {
     "data": {
      "text/html": [
       "<div>\n",
       "<style scoped>\n",
       "    .dataframe tbody tr th:only-of-type {\n",
       "        vertical-align: middle;\n",
       "    }\n",
       "\n",
       "    .dataframe tbody tr th {\n",
       "        vertical-align: top;\n",
       "    }\n",
       "\n",
       "    .dataframe thead th {\n",
       "        text-align: right;\n",
       "    }\n",
       "</style>\n",
       "<table border=\"1\" class=\"dataframe\">\n",
       "  <thead>\n",
       "    <tr style=\"text-align: right;\">\n",
       "      <th></th>\n",
       "      <th>review_id</th>\n",
       "      <th>star_rating</th>\n",
       "      <th>helpful_votes</th>\n",
       "      <th>total_votes</th>\n",
       "      <th>vine</th>\n",
       "      <th>verified_purchase</th>\n",
       "      <th>helpfull_votes_ratio</th>\n",
       "    </tr>\n",
       "  </thead>\n",
       "  <tbody>\n",
       "    <tr>\n",
       "      <th>3633</th>\n",
       "      <td>R15CNHFEBV35GK</td>\n",
       "      <td>5.0</td>\n",
       "      <td>149.0</td>\n",
       "      <td>166.0</td>\n",
       "      <td>Y</td>\n",
       "      <td>Y</td>\n",
       "      <td>0.897590</td>\n",
       "    </tr>\n",
       "    <tr>\n",
       "      <th>5336</th>\n",
       "      <td>R187S0YOCFNVIT</td>\n",
       "      <td>5.0</td>\n",
       "      <td>76.0</td>\n",
       "      <td>80.0</td>\n",
       "      <td>Y</td>\n",
       "      <td>N</td>\n",
       "      <td>0.950000</td>\n",
       "    </tr>\n",
       "    <tr>\n",
       "      <th>17681</th>\n",
       "      <td>R1PW5D3I6DBP8V</td>\n",
       "      <td>5.0</td>\n",
       "      <td>25.0</td>\n",
       "      <td>28.0</td>\n",
       "      <td>Y</td>\n",
       "      <td>N</td>\n",
       "      <td>0.892857</td>\n",
       "    </tr>\n",
       "    <tr>\n",
       "      <th>24568</th>\n",
       "      <td>R20T9GECL50CG0</td>\n",
       "      <td>4.0</td>\n",
       "      <td>21.0</td>\n",
       "      <td>27.0</td>\n",
       "      <td>Y</td>\n",
       "      <td>N</td>\n",
       "      <td>0.777778</td>\n",
       "    </tr>\n",
       "    <tr>\n",
       "      <th>25408</th>\n",
       "      <td>R22R1U9HMSLBLM</td>\n",
       "      <td>3.0</td>\n",
       "      <td>54.0</td>\n",
       "      <td>57.0</td>\n",
       "      <td>Y</td>\n",
       "      <td>N</td>\n",
       "      <td>0.947368</td>\n",
       "    </tr>\n",
       "  </tbody>\n",
       "</table>\n",
       "</div>"
      ],
      "text/plain": [
       "            review_id star_rating  helpful_votes  total_votes vine  \\\n",
       "3633   R15CNHFEBV35GK         5.0          149.0        166.0    Y   \n",
       "5336   R187S0YOCFNVIT         5.0           76.0         80.0    Y   \n",
       "17681  R1PW5D3I6DBP8V         5.0           25.0         28.0    Y   \n",
       "24568  R20T9GECL50CG0         4.0           21.0         27.0    Y   \n",
       "25408  R22R1U9HMSLBLM         3.0           54.0         57.0    Y   \n",
       "\n",
       "      verified_purchase  helpfull_votes_ratio  \n",
       "3633                  Y              0.897590  \n",
       "5336                  N              0.950000  \n",
       "17681                 N              0.892857  \n",
       "24568                 N              0.777778  \n",
       "25408                 N              0.947368  "
      ]
     },
     "execution_count": 23,
     "metadata": {},
     "output_type": "execute_result"
    }
   ],
   "source": [
    "vine_vin_Y_df.head()"
   ]
  },
  {
   "cell_type": "code",
   "execution_count": 24,
   "id": "f740abb8",
   "metadata": {},
   "outputs": [],
   "source": [
    "# filter df for the reviews not written as part of the Vine program (unpaid)\n",
    "\n",
    "vine_vin_N_df=vine_helpfull_df[vine_helpfull_df[\"vine\"]==\"N\"]"
   ]
  },
  {
   "cell_type": "code",
   "execution_count": 25,
   "id": "306c06f3",
   "metadata": {},
   "outputs": [
    {
     "data": {
      "text/html": [
       "<div>\n",
       "<style scoped>\n",
       "    .dataframe tbody tr th:only-of-type {\n",
       "        vertical-align: middle;\n",
       "    }\n",
       "\n",
       "    .dataframe tbody tr th {\n",
       "        vertical-align: top;\n",
       "    }\n",
       "\n",
       "    .dataframe thead th {\n",
       "        text-align: right;\n",
       "    }\n",
       "</style>\n",
       "<table border=\"1\" class=\"dataframe\">\n",
       "  <thead>\n",
       "    <tr style=\"text-align: right;\">\n",
       "      <th></th>\n",
       "      <th>review_id</th>\n",
       "      <th>star_rating</th>\n",
       "      <th>helpful_votes</th>\n",
       "      <th>total_votes</th>\n",
       "      <th>vine</th>\n",
       "      <th>verified_purchase</th>\n",
       "      <th>helpfull_votes_ratio</th>\n",
       "    </tr>\n",
       "  </thead>\n",
       "  <tbody>\n",
       "    <tr>\n",
       "      <th>291</th>\n",
       "      <td>R10A9A8T32ALIY</td>\n",
       "      <td>5.0</td>\n",
       "      <td>32.0</td>\n",
       "      <td>33.0</td>\n",
       "      <td>N</td>\n",
       "      <td>Y</td>\n",
       "      <td>0.969697</td>\n",
       "    </tr>\n",
       "    <tr>\n",
       "      <th>330</th>\n",
       "      <td>R10F88Z49OG09R</td>\n",
       "      <td>5.0</td>\n",
       "      <td>151.0</td>\n",
       "      <td>160.0</td>\n",
       "      <td>N</td>\n",
       "      <td>N</td>\n",
       "      <td>0.943750</td>\n",
       "    </tr>\n",
       "    <tr>\n",
       "      <th>496</th>\n",
       "      <td>R10WUVF0P1MX0K</td>\n",
       "      <td>5.0</td>\n",
       "      <td>23.0</td>\n",
       "      <td>27.0</td>\n",
       "      <td>N</td>\n",
       "      <td>Y</td>\n",
       "      <td>0.851852</td>\n",
       "    </tr>\n",
       "    <tr>\n",
       "      <th>738</th>\n",
       "      <td>R113RAK87V3AML</td>\n",
       "      <td>1.0</td>\n",
       "      <td>33.0</td>\n",
       "      <td>38.0</td>\n",
       "      <td>N</td>\n",
       "      <td>Y</td>\n",
       "      <td>0.868421</td>\n",
       "    </tr>\n",
       "    <tr>\n",
       "      <th>818</th>\n",
       "      <td>R11BW6O1XCA6W5</td>\n",
       "      <td>3.0</td>\n",
       "      <td>22.0</td>\n",
       "      <td>25.0</td>\n",
       "      <td>N</td>\n",
       "      <td>Y</td>\n",
       "      <td>0.880000</td>\n",
       "    </tr>\n",
       "  </tbody>\n",
       "</table>\n",
       "</div>"
      ],
      "text/plain": [
       "          review_id star_rating  helpful_votes  total_votes vine  \\\n",
       "291  R10A9A8T32ALIY         5.0           32.0         33.0    N   \n",
       "330  R10F88Z49OG09R         5.0          151.0        160.0    N   \n",
       "496  R10WUVF0P1MX0K         5.0           23.0         27.0    N   \n",
       "738  R113RAK87V3AML         1.0           33.0         38.0    N   \n",
       "818  R11BW6O1XCA6W5         3.0           22.0         25.0    N   \n",
       "\n",
       "    verified_purchase  helpfull_votes_ratio  \n",
       "291                 Y              0.969697  \n",
       "330                 N              0.943750  \n",
       "496                 Y              0.851852  \n",
       "738                 Y              0.868421  \n",
       "818                 Y              0.880000  "
      ]
     },
     "execution_count": 25,
     "metadata": {},
     "output_type": "execute_result"
    }
   ],
   "source": [
    "vine_vin_N_df.head()"
   ]
  },
  {
   "cell_type": "code",
   "execution_count": 27,
   "id": "220b5a71",
   "metadata": {},
   "outputs": [
    {
     "data": {
      "text/plain": [
       "65581"
      ]
     },
     "execution_count": 27,
     "metadata": {},
     "output_type": "execute_result"
    }
   ],
   "source": [
    "# total helpfull votes\n",
    "\n",
    "total_reviews=vine_helpfull_df[vine_helpfull_df.columns[0]].count()\n",
    "total_reviews"
   ]
  },
  {
   "cell_type": "code",
   "execution_count": 33,
   "id": "110e88b3",
   "metadata": {},
   "outputs": [
    {
     "data": {
      "text/plain": [
       "925"
      ]
     },
     "execution_count": 33,
     "metadata": {},
     "output_type": "execute_result"
    }
   ],
   "source": [
    "# total helpfull votes with star rating = 5\n",
    "\n",
    "total_5_reviews=vine_helpfull_df[vine_helpfull_df[\"star_rating\"]==\"5\"]\n",
    "total_5_reviews_n=len(total_5_reviews.index)\n",
    "total_5_reviews_n"
   ]
  },
  {
   "cell_type": "code",
   "execution_count": 34,
   "id": "0b381eea",
   "metadata": {},
   "outputs": [
    {
     "data": {
      "text/plain": [
       "9"
      ]
     },
     "execution_count": 34,
     "metadata": {},
     "output_type": "execute_result"
    }
   ],
   "source": [
    "# total helpfull votes for vin =Y and star rating = 5  \n",
    "\n",
    "total_5_reviews_Y=vine_vin_Y_df[vine_vin_Y_df[\"star_rating\"]==\"5\"]\n",
    "total_5_reviews_Y_n=len(total_5_reviews_Y.index)\n",
    "total_5_reviews_Y_n"
   ]
  },
  {
   "cell_type": "code",
   "execution_count": 35,
   "id": "887b8ab5",
   "metadata": {},
   "outputs": [
    {
     "data": {
      "text/plain": [
       "916"
      ]
     },
     "execution_count": 35,
     "metadata": {},
     "output_type": "execute_result"
    }
   ],
   "source": [
    "# total helpfull votes for vin =N and star rating = 5  \n",
    "\n",
    "total_5_reviews_N=vine_vin_N_df[vine_vin_N_df[\"star_rating\"]==\"5\"]\n",
    "total_5_reviews_N_n=len(total_5_reviews_N.index)\n",
    "total_5_reviews_N_n"
   ]
  },
  {
   "cell_type": "code",
   "execution_count": 44,
   "id": "2d91d04f",
   "metadata": {},
   "outputs": [
    {
     "name": "stdout",
     "output_type": "stream",
     "text": [
      "0.97%\n"
     ]
    }
   ],
   "source": [
    "# percentage of helpfull votes for vin =Y and star rating = 5 \n",
    "\n",
    "total_5_reviews_Y_per=total_5_reviews_Y_n/total_5_reviews_n\n",
    "print(\"{:.2%}\".format(total_5_reviews_Y_per))"
   ]
  },
  {
   "cell_type": "code",
   "execution_count": 45,
   "id": "8a7ad188",
   "metadata": {},
   "outputs": [
    {
     "name": "stdout",
     "output_type": "stream",
     "text": [
      "99.03%\n"
     ]
    }
   ],
   "source": [
    "# percentage of helpfull votes for vin =N and star rating = 5 \n",
    "\n",
    "total_5_reviews_N_per=total_5_reviews_N_n/total_5_reviews_n\n",
    "print(\"{:.2%}\".format(total_5_reviews_N_per))"
   ]
  },
  {
   "cell_type": "code",
   "execution_count": null,
   "id": "bbbbac7c",
   "metadata": {},
   "outputs": [],
   "source": []
  }
 ],
 "metadata": {
  "kernelspec": {
   "display_name": "pythondata",
   "language": "python",
   "name": "pythondata"
  },
  "language_info": {
   "codemirror_mode": {
    "name": "ipython",
    "version": 3
   },
   "file_extension": ".py",
   "mimetype": "text/x-python",
   "name": "python",
   "nbconvert_exporter": "python",
   "pygments_lexer": "ipython3",
   "version": "3.7.11"
  }
 },
 "nbformat": 4,
 "nbformat_minor": 5
}
